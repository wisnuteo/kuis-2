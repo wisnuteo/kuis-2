{
  "cells": [
    {
      "cell_type": "markdown",
      "metadata": {
        "id": "N9g0npqELORz"
      },
      "source": [
        "### Nama  : Teo Wisnu Widiantoro \n",
        "### NIM   : 2241727018 \n",
        "### Kelas : TI-4J"
      ]
    },
    {
      "cell_type": "markdown",
      "metadata": {
        "id": "QuOtpXC9LOR6"
      },
      "source": [
        "Tentang data:\n",
        "\n",
        "Pada sebuah lembaga kemanusiaan berbasis teknologi informasi, dibentuk beberapa tim kemanusiaan yang bertugas untuk terjun ke masyarakat memberikan bantuan dalam bentuk aplikasi komputer atau layanan pelatihan IT.  Kegiatn tersebut dilaksanakan setiap tahun dengan ketentuan anggota organisasi tersebut dapat bergabung ke beberapa tim sebagai ketua atau anggota. Terdapat pula anggota yang sudah tidak aktif di organisasi tersebut (terhapus di database mereka —> label #N/A).  Organisasi tersebut juga melakukan rekrutmen volunteer, namun tidak semua tim menggunakan bantuan volunteer. Hasil kegiatan dari setiap tim dapat diwujudkan ke dalam sebuah pengakuan hak cipta atau publikasi karya ilmiah atau publikasi berita di media massa.\n",
        "\n",
        "\n",
        "\n",
        "Ketentuan:\n",
        "\n",
        "1. Pengerjaan secara individu alias setiap mahasiswa!\n",
        "2. terdapat data dengan nilai #N/A, pertimbangkan cara terbaik untuk mengatasi nilai tersebut.\n",
        "3. Tidak boleh ada duplikasi pekerjaan antar mahasiswa (evaluasi pemahaman pengerjaan quiz 2 dilaksanakan pada Minggu ke-14)\n",
        "\n",
        "Soal:\n",
        "\n",
        "1. Buat 5 jenis visualisasi yang dapat dihasilkan dari data yang diberikan! (5 poin)\n",
        "2. Lakukan pemilahan data training dan testing yang sesuai dan proporsional dari data tersebut! (5 poin)\n",
        "3. Tentukan data validasi! (5 poin)\n",
        "4. Terapkan dua jenis metode klasifikasi dan lakukan perbandingan akurasi  dengan wajib melibatkan variabel keterlibatan volunteer sampai variabel luaran-luaran yang dihasilkan! (20 poin)\n",
        "5. Terapkan sebuah metode prediksi (berdasarkan tahun, misal: jumlah kegiatan pada tahun tertentu sebagai x dan jumlah  luaran sebagai y) serta hitung akurasinya dengan wajib melibatkan variabel keterlibatan volunteer sampai variabel luaran-luaran yang dihasilkan! (20 poin)\n",
        "6. Buat Confusion Matrix dan ROC berdasarkan klasifikasi yang diterapkan pada nomor 4! (15 poin)\n",
        "7. Lakukan hyperparameter tunning berdasarkan jawaban nomor 2, 3, dan 4 menggunakan metode Grid Search, Random Search, dan Exhausive Search! (20 poin)\n",
        "8. Tambahkan visualisasi berdasarkan nomor 4 dan 5 (masing-masing nomor minimal satu visualisasi)! (10 poin)\n",
        "Pengumpulan:\n",
        "\n",
        "Cantumkan link Repo atau Google Collab (jangan lupa set Public)\n",
        "Tidak perlu ada video presentasi"
      ]
    },
    {
      "cell_type": "code",
      "execution_count": 1,
      "metadata": {
        "id": "CirvVAOwLOR9"
      },
      "outputs": [],
      "source": [
        "import numpy as np\n",
        "import pandas as pd"
      ]
    },
    {
      "cell_type": "code",
      "execution_count": 2,
      "metadata": {
        "id": "M5rrQFALLOR_",
        "outputId": "db0b9b7c-a1f2-44c6-8727-dd944a26459d"
      },
      "outputs": [
        {
          "data": {
            "text/html": [
              "<div>\n",
              "<style scoped>\n",
              "    .dataframe tbody tr th:only-of-type {\n",
              "        vertical-align: middle;\n",
              "    }\n",
              "\n",
              "    .dataframe tbody tr th {\n",
              "        vertical-align: top;\n",
              "    }\n",
              "\n",
              "    .dataframe thead th {\n",
              "        text-align: right;\n",
              "    }\n",
              "</style>\n",
              "<table border=\"1\" class=\"dataframe\">\n",
              "  <thead>\n",
              "    <tr style=\"text-align: right;\">\n",
              "      <th></th>\n",
              "      <th>id_ketua</th>\n",
              "      <th>id_anggota1</th>\n",
              "      <th>id_anggota2</th>\n",
              "      <th>id_anggota3</th>\n",
              "      <th>id_anggota4</th>\n",
              "      <th>id_anggota5</th>\n",
              "      <th>keterlibatan_vltr</th>\n",
              "      <th>jml_vltr_terlibat</th>\n",
              "      <th>tahun</th>\n",
              "      <th>skema</th>\n",
              "      <th>luaran_hki</th>\n",
              "      <th>jenis_luaran_hki</th>\n",
              "      <th>potensi_hki</th>\n",
              "      <th>luaran_lain</th>\n",
              "      <th>jenis_luaran_lain</th>\n",
              "      <th>status_luaran_lain</th>\n",
              "    </tr>\n",
              "  </thead>\n",
              "  <tbody>\n",
              "    <tr>\n",
              "      <th>0</th>\n",
              "      <td>7206.0</td>\n",
              "      <td>7214.0</td>\n",
              "      <td>6211.0</td>\n",
              "      <td>8602.0</td>\n",
              "      <td>7801.0</td>\n",
              "      <td>NaN</td>\n",
              "      <td>TIDAK</td>\n",
              "      <td>0</td>\n",
              "      <td>2019</td>\n",
              "      <td>REGULER</td>\n",
              "      <td>TIDAK ADA</td>\n",
              "      <td>TIDAK ADA</td>\n",
              "      <td>TIDAK</td>\n",
              "      <td>TIDAK ADA</td>\n",
              "      <td>TIDAK ADA</td>\n",
              "      <td>TIDAK ADA</td>\n",
              "    </tr>\n",
              "    <tr>\n",
              "      <th>1</th>\n",
              "      <td>7214.0</td>\n",
              "      <td>7109.0</td>\n",
              "      <td>8402.0</td>\n",
              "      <td>7903.0</td>\n",
              "      <td>9202.0</td>\n",
              "      <td>NaN</td>\n",
              "      <td>TIDAK</td>\n",
              "      <td>0</td>\n",
              "      <td>2019</td>\n",
              "      <td>REGULER</td>\n",
              "      <td>TIDAK ADA</td>\n",
              "      <td>TIDAK ADA</td>\n",
              "      <td>TIDAK</td>\n",
              "      <td>TIDAK ADA</td>\n",
              "      <td>TIDAK ADA</td>\n",
              "      <td>TIDAK ADA</td>\n",
              "    </tr>\n",
              "    <tr>\n",
              "      <th>2</th>\n",
              "      <td>5911.0</td>\n",
              "      <td>8201.0</td>\n",
              "      <td>8701.0</td>\n",
              "      <td>9101.0</td>\n",
              "      <td>9003.0</td>\n",
              "      <td>NaN</td>\n",
              "      <td>TIDAK</td>\n",
              "      <td>0</td>\n",
              "      <td>2019</td>\n",
              "      <td>REGULER</td>\n",
              "      <td>TIDAK ADA</td>\n",
              "      <td>TIDAK ADA</td>\n",
              "      <td>TIDAK</td>\n",
              "      <td>TIDAK ADA</td>\n",
              "      <td>TIDAK ADA</td>\n",
              "      <td>TIDAK ADA</td>\n",
              "    </tr>\n",
              "    <tr>\n",
              "      <th>3</th>\n",
              "      <td>8402.0</td>\n",
              "      <td>7702.0</td>\n",
              "      <td>8602.0</td>\n",
              "      <td>8903.0</td>\n",
              "      <td>8903.0</td>\n",
              "      <td>NaN</td>\n",
              "      <td>TIDAK</td>\n",
              "      <td>0</td>\n",
              "      <td>2019</td>\n",
              "      <td>REGULER</td>\n",
              "      <td>TIDAK ADA</td>\n",
              "      <td>TIDAK ADA</td>\n",
              "      <td>TIDAK</td>\n",
              "      <td>TIDAK ADA</td>\n",
              "      <td>TIDAK ADA</td>\n",
              "      <td>TIDAK ADA</td>\n",
              "    </tr>\n",
              "    <tr>\n",
              "      <th>4</th>\n",
              "      <td>8201.0</td>\n",
              "      <td>8305.0</td>\n",
              "      <td>5911.0</td>\n",
              "      <td>5903.0</td>\n",
              "      <td>8402.0</td>\n",
              "      <td>NaN</td>\n",
              "      <td>TIDAK</td>\n",
              "      <td>0</td>\n",
              "      <td>2019</td>\n",
              "      <td>REGULER</td>\n",
              "      <td>TIDAK ADA</td>\n",
              "      <td>TIDAK ADA</td>\n",
              "      <td>TIDAK</td>\n",
              "      <td>TIDAK ADA</td>\n",
              "      <td>TIDAK ADA</td>\n",
              "      <td>TIDAK ADA</td>\n",
              "    </tr>\n",
              "  </tbody>\n",
              "</table>\n",
              "</div>"
            ],
            "text/plain": [
              "   id_ketua  id_anggota1  id_anggota2  id_anggota3  id_anggota4  id_anggota5  \\\n",
              "0    7206.0       7214.0       6211.0       8602.0       7801.0          NaN   \n",
              "1    7214.0       7109.0       8402.0       7903.0       9202.0          NaN   \n",
              "2    5911.0       8201.0       8701.0       9101.0       9003.0          NaN   \n",
              "3    8402.0       7702.0       8602.0       8903.0       8903.0          NaN   \n",
              "4    8201.0       8305.0       5911.0       5903.0       8402.0          NaN   \n",
              "\n",
              "  keterlibatan_vltr  jml_vltr_terlibat  tahun    skema luaran_hki  \\\n",
              "0             TIDAK                  0   2019  REGULER  TIDAK ADA   \n",
              "1             TIDAK                  0   2019  REGULER  TIDAK ADA   \n",
              "2             TIDAK                  0   2019  REGULER  TIDAK ADA   \n",
              "3             TIDAK                  0   2019  REGULER  TIDAK ADA   \n",
              "4             TIDAK                  0   2019  REGULER  TIDAK ADA   \n",
              "\n",
              "  jenis_luaran_hki potensi_hki luaran_lain jenis_luaran_lain  \\\n",
              "0        TIDAK ADA       TIDAK   TIDAK ADA         TIDAK ADA   \n",
              "1        TIDAK ADA       TIDAK   TIDAK ADA         TIDAK ADA   \n",
              "2        TIDAK ADA       TIDAK   TIDAK ADA         TIDAK ADA   \n",
              "3        TIDAK ADA       TIDAK   TIDAK ADA         TIDAK ADA   \n",
              "4        TIDAK ADA       TIDAK   TIDAK ADA         TIDAK ADA   \n",
              "\n",
              "  status_luaran_lain  \n",
              "0          TIDAK ADA  \n",
              "1          TIDAK ADA  \n",
              "2          TIDAK ADA  \n",
              "3          TIDAK ADA  \n",
              "4          TIDAK ADA  "
            ]
          },
          "execution_count": 2,
          "metadata": {},
          "output_type": "execute_result"
        }
      ],
      "source": [
        "df = pd.read_csv('dataset_quiz.csv')\n",
        "\n",
        "df.head()"
      ]
    },
    {
      "cell_type": "code",
      "execution_count": 3,
      "metadata": {
        "id": "xWuQin3wLOSB",
        "outputId": "5493e64e-48a0-4815-daf8-e412ce901009"
      },
      "outputs": [
        {
          "data": {
            "text/html": [
              "<div>\n",
              "<style scoped>\n",
              "    .dataframe tbody tr th:only-of-type {\n",
              "        vertical-align: middle;\n",
              "    }\n",
              "\n",
              "    .dataframe tbody tr th {\n",
              "        vertical-align: top;\n",
              "    }\n",
              "\n",
              "    .dataframe thead th {\n",
              "        text-align: right;\n",
              "    }\n",
              "</style>\n",
              "<table border=\"1\" class=\"dataframe\">\n",
              "  <thead>\n",
              "    <tr style=\"text-align: right;\">\n",
              "      <th></th>\n",
              "      <th>id_ketua</th>\n",
              "      <th>id_anggota1</th>\n",
              "      <th>id_anggota2</th>\n",
              "      <th>id_anggota3</th>\n",
              "      <th>id_anggota4</th>\n",
              "      <th>keterlibatan_vltr</th>\n",
              "      <th>jml_vltr_terlibat</th>\n",
              "      <th>tahun</th>\n",
              "      <th>skema</th>\n",
              "      <th>luaran_hki</th>\n",
              "      <th>jenis_luaran_hki</th>\n",
              "      <th>potensi_hki</th>\n",
              "      <th>luaran_lain</th>\n",
              "      <th>jenis_luaran_lain</th>\n",
              "      <th>status_luaran_lain</th>\n",
              "    </tr>\n",
              "  </thead>\n",
              "  <tbody>\n",
              "    <tr>\n",
              "      <th>0</th>\n",
              "      <td>7206.0</td>\n",
              "      <td>7214.0</td>\n",
              "      <td>6211.0</td>\n",
              "      <td>8602.0</td>\n",
              "      <td>7801.0</td>\n",
              "      <td>TIDAK</td>\n",
              "      <td>0</td>\n",
              "      <td>2019</td>\n",
              "      <td>REGULER</td>\n",
              "      <td>TIDAK ADA</td>\n",
              "      <td>TIDAK ADA</td>\n",
              "      <td>TIDAK</td>\n",
              "      <td>TIDAK ADA</td>\n",
              "      <td>TIDAK ADA</td>\n",
              "      <td>TIDAK ADA</td>\n",
              "    </tr>\n",
              "    <tr>\n",
              "      <th>1</th>\n",
              "      <td>7214.0</td>\n",
              "      <td>7109.0</td>\n",
              "      <td>8402.0</td>\n",
              "      <td>7903.0</td>\n",
              "      <td>9202.0</td>\n",
              "      <td>TIDAK</td>\n",
              "      <td>0</td>\n",
              "      <td>2019</td>\n",
              "      <td>REGULER</td>\n",
              "      <td>TIDAK ADA</td>\n",
              "      <td>TIDAK ADA</td>\n",
              "      <td>TIDAK</td>\n",
              "      <td>TIDAK ADA</td>\n",
              "      <td>TIDAK ADA</td>\n",
              "      <td>TIDAK ADA</td>\n",
              "    </tr>\n",
              "    <tr>\n",
              "      <th>2</th>\n",
              "      <td>5911.0</td>\n",
              "      <td>8201.0</td>\n",
              "      <td>8701.0</td>\n",
              "      <td>9101.0</td>\n",
              "      <td>9003.0</td>\n",
              "      <td>TIDAK</td>\n",
              "      <td>0</td>\n",
              "      <td>2019</td>\n",
              "      <td>REGULER</td>\n",
              "      <td>TIDAK ADA</td>\n",
              "      <td>TIDAK ADA</td>\n",
              "      <td>TIDAK</td>\n",
              "      <td>TIDAK ADA</td>\n",
              "      <td>TIDAK ADA</td>\n",
              "      <td>TIDAK ADA</td>\n",
              "    </tr>\n",
              "    <tr>\n",
              "      <th>3</th>\n",
              "      <td>8402.0</td>\n",
              "      <td>7702.0</td>\n",
              "      <td>8602.0</td>\n",
              "      <td>8903.0</td>\n",
              "      <td>8903.0</td>\n",
              "      <td>TIDAK</td>\n",
              "      <td>0</td>\n",
              "      <td>2019</td>\n",
              "      <td>REGULER</td>\n",
              "      <td>TIDAK ADA</td>\n",
              "      <td>TIDAK ADA</td>\n",
              "      <td>TIDAK</td>\n",
              "      <td>TIDAK ADA</td>\n",
              "      <td>TIDAK ADA</td>\n",
              "      <td>TIDAK ADA</td>\n",
              "    </tr>\n",
              "    <tr>\n",
              "      <th>4</th>\n",
              "      <td>8201.0</td>\n",
              "      <td>8305.0</td>\n",
              "      <td>5911.0</td>\n",
              "      <td>5903.0</td>\n",
              "      <td>8402.0</td>\n",
              "      <td>TIDAK</td>\n",
              "      <td>0</td>\n",
              "      <td>2019</td>\n",
              "      <td>REGULER</td>\n",
              "      <td>TIDAK ADA</td>\n",
              "      <td>TIDAK ADA</td>\n",
              "      <td>TIDAK</td>\n",
              "      <td>TIDAK ADA</td>\n",
              "      <td>TIDAK ADA</td>\n",
              "      <td>TIDAK ADA</td>\n",
              "    </tr>\n",
              "    <tr>\n",
              "      <th>5</th>\n",
              "      <td>8008.0</td>\n",
              "      <td>7607.0</td>\n",
              "      <td>7903.0</td>\n",
              "      <td>7702.0</td>\n",
              "      <td>8905.0</td>\n",
              "      <td>TIDAK</td>\n",
              "      <td>0</td>\n",
              "      <td>2019</td>\n",
              "      <td>REGULER</td>\n",
              "      <td>TIDAK ADA</td>\n",
              "      <td>TIDAK ADA</td>\n",
              "      <td>TIDAK</td>\n",
              "      <td>TIDAK ADA</td>\n",
              "      <td>TIDAK ADA</td>\n",
              "      <td>TIDAK ADA</td>\n",
              "    </tr>\n",
              "    <tr>\n",
              "      <th>6</th>\n",
              "      <td>8402.0</td>\n",
              "      <td>8803.0</td>\n",
              "      <td>9102.0</td>\n",
              "      <td>8804.0</td>\n",
              "      <td>8005.0</td>\n",
              "      <td>TIDAK</td>\n",
              "      <td>0</td>\n",
              "      <td>2019</td>\n",
              "      <td>REGULER</td>\n",
              "      <td>TIDAK ADA</td>\n",
              "      <td>TIDAK ADA</td>\n",
              "      <td>TIDAK</td>\n",
              "      <td>TIDAK ADA</td>\n",
              "      <td>TIDAK ADA</td>\n",
              "      <td>TIDAK ADA</td>\n",
              "    </tr>\n",
              "    <tr>\n",
              "      <th>7</th>\n",
              "      <td>8101.0</td>\n",
              "      <td>7702.0</td>\n",
              "      <td>7308.0</td>\n",
              "      <td>8602.0</td>\n",
              "      <td>9003.0</td>\n",
              "      <td>TIDAK</td>\n",
              "      <td>0</td>\n",
              "      <td>2019</td>\n",
              "      <td>REGULER</td>\n",
              "      <td>TIDAK ADA</td>\n",
              "      <td>TIDAK ADA</td>\n",
              "      <td>TIDAK</td>\n",
              "      <td>TIDAK ADA</td>\n",
              "      <td>TIDAK ADA</td>\n",
              "      <td>TIDAK ADA</td>\n",
              "    </tr>\n",
              "    <tr>\n",
              "      <th>9</th>\n",
              "      <td>8805.0</td>\n",
              "      <td>7206.0</td>\n",
              "      <td>7903.0</td>\n",
              "      <td>7702.0</td>\n",
              "      <td>9002.0</td>\n",
              "      <td>TIDAK</td>\n",
              "      <td>0</td>\n",
              "      <td>2019</td>\n",
              "      <td>REGULER</td>\n",
              "      <td>TIDAK ADA</td>\n",
              "      <td>TIDAK ADA</td>\n",
              "      <td>TIDAK</td>\n",
              "      <td>TIDAK ADA</td>\n",
              "      <td>TIDAK ADA</td>\n",
              "      <td>TIDAK ADA</td>\n",
              "    </tr>\n",
              "    <tr>\n",
              "      <th>10</th>\n",
              "      <td>6211.0</td>\n",
              "      <td>7607.0</td>\n",
              "      <td>8301.0</td>\n",
              "      <td>8604.0</td>\n",
              "      <td>9003.0</td>\n",
              "      <td>TIDAK</td>\n",
              "      <td>0</td>\n",
              "      <td>2019</td>\n",
              "      <td>REGULER</td>\n",
              "      <td>TIDAK ADA</td>\n",
              "      <td>TIDAK ADA</td>\n",
              "      <td>TIDAK</td>\n",
              "      <td>TIDAK ADA</td>\n",
              "      <td>TIDAK ADA</td>\n",
              "      <td>TIDAK ADA</td>\n",
              "    </tr>\n",
              "  </tbody>\n",
              "</table>\n",
              "</div>"
            ],
            "text/plain": [
              "    id_ketua  id_anggota1  id_anggota2  id_anggota3  id_anggota4  \\\n",
              "0     7206.0       7214.0       6211.0       8602.0       7801.0   \n",
              "1     7214.0       7109.0       8402.0       7903.0       9202.0   \n",
              "2     5911.0       8201.0       8701.0       9101.0       9003.0   \n",
              "3     8402.0       7702.0       8602.0       8903.0       8903.0   \n",
              "4     8201.0       8305.0       5911.0       5903.0       8402.0   \n",
              "5     8008.0       7607.0       7903.0       7702.0       8905.0   \n",
              "6     8402.0       8803.0       9102.0       8804.0       8005.0   \n",
              "7     8101.0       7702.0       7308.0       8602.0       9003.0   \n",
              "9     8805.0       7206.0       7903.0       7702.0       9002.0   \n",
              "10    6211.0       7607.0       8301.0       8604.0       9003.0   \n",
              "\n",
              "   keterlibatan_vltr  jml_vltr_terlibat  tahun    skema luaran_hki  \\\n",
              "0              TIDAK                  0   2019  REGULER  TIDAK ADA   \n",
              "1              TIDAK                  0   2019  REGULER  TIDAK ADA   \n",
              "2              TIDAK                  0   2019  REGULER  TIDAK ADA   \n",
              "3              TIDAK                  0   2019  REGULER  TIDAK ADA   \n",
              "4              TIDAK                  0   2019  REGULER  TIDAK ADA   \n",
              "5              TIDAK                  0   2019  REGULER  TIDAK ADA   \n",
              "6              TIDAK                  0   2019  REGULER  TIDAK ADA   \n",
              "7              TIDAK                  0   2019  REGULER  TIDAK ADA   \n",
              "9              TIDAK                  0   2019  REGULER  TIDAK ADA   \n",
              "10             TIDAK                  0   2019  REGULER  TIDAK ADA   \n",
              "\n",
              "   jenis_luaran_hki potensi_hki luaran_lain jenis_luaran_lain  \\\n",
              "0         TIDAK ADA       TIDAK   TIDAK ADA         TIDAK ADA   \n",
              "1         TIDAK ADA       TIDAK   TIDAK ADA         TIDAK ADA   \n",
              "2         TIDAK ADA       TIDAK   TIDAK ADA         TIDAK ADA   \n",
              "3         TIDAK ADA       TIDAK   TIDAK ADA         TIDAK ADA   \n",
              "4         TIDAK ADA       TIDAK   TIDAK ADA         TIDAK ADA   \n",
              "5         TIDAK ADA       TIDAK   TIDAK ADA         TIDAK ADA   \n",
              "6         TIDAK ADA       TIDAK   TIDAK ADA         TIDAK ADA   \n",
              "7         TIDAK ADA       TIDAK   TIDAK ADA         TIDAK ADA   \n",
              "9         TIDAK ADA       TIDAK   TIDAK ADA         TIDAK ADA   \n",
              "10        TIDAK ADA       TIDAK   TIDAK ADA         TIDAK ADA   \n",
              "\n",
              "   status_luaran_lain  \n",
              "0           TIDAK ADA  \n",
              "1           TIDAK ADA  \n",
              "2           TIDAK ADA  \n",
              "3           TIDAK ADA  \n",
              "4           TIDAK ADA  \n",
              "5           TIDAK ADA  \n",
              "6           TIDAK ADA  \n",
              "7           TIDAK ADA  \n",
              "9           TIDAK ADA  \n",
              "10          TIDAK ADA  "
            ]
          },
          "execution_count": 3,
          "metadata": {},
          "output_type": "execute_result"
        }
      ],
      "source": [
        "df.drop('id_anggota5', inplace=True, axis=1)\n",
        "df = df.dropna()\n",
        "\n",
        "df.head(10)"
      ]
    },
    {
      "cell_type": "markdown",
      "metadata": {
        "id": "3ZwquUuHLOSC"
      },
      "source": [
        "### 1. Visualisasi Data"
      ]
    },
    {
      "cell_type": "code",
      "execution_count": 4,
      "metadata": {
        "id": "PGhOvFjvLOSD",
        "outputId": "340b1e47-df0d-41bf-fb31-07eafd83bdae"
      },
      "outputs": [
        {
          "data": {
            "image/png": "[encoded data removed]",
            "text/plain": [
              "<Figure size 1200x700 with 1 Axes>"
            ]
          },
          "metadata": {},
          "output_type": "display_data"
        }
      ],
      "source": [
        "import matplotlib.pyplot as plt\n",
        "%matplotlib inline\n",
        "\n",
        "plt.figure(figsize=(12,7))\n",
        "plt.bar(df['tahun'], df['jml_vltr_terlibat'], color='blue')\n",
        "\n",
        "plt.title('Jumlah Volunter Yang Terlibat Terhadap Tahun', size=16)\n",
        "plt.ylabel('Jumlah Mahasiswa', size=14)\n",
        "plt.xticks(size=12)\n",
        "plt.yticks(size=12)\n",
        "\n",
        "plt.show()"
      ]
    },
    {
      "cell_type": "code",
      "execution_count": 5,
      "metadata": {
        "id": "Vp1DnrxzLOSE",
        "outputId": "fc01d5f8-56d3-4781-bd99-4e48ee9f9cad"
      },
      "outputs": [
        {
          "data": {
            "image/png": "[encoded data removed]",
            "text/plain": [
              "<Figure size 1200x700 with 1 Axes>"
            ]
          },
          "metadata": {},
          "output_type": "display_data"
        }
      ],
      "source": [
        "import matplotlib.pyplot as plt\n",
        "%matplotlib inline\n",
        "\n",
        "ktrlbtn = ['IYA', 'TIDAK']\n",
        "jum_ktrlbtn = df[df['keterlibatan_vltr'] == 'YA']['keterlibatan_vltr'].count(),df[df['keterlibatan_vltr'] == 'TIDAK']['keterlibatan_vltr'].count()\n",
        "\n",
        "plt.figure(figsize=(12,7))\n",
        "plt.bar(ktrlbtn, jum_ktrlbtn, color='blue')\n",
        "\n",
        "plt.title('Jumlah Keterlibatan Volunter', size=16)\n",
        "plt.ylabel('Jumlah IYA dan TIDAK', size=14)\n",
        "plt.xticks(size=12)\n",
        "plt.yticks(size=12)\n",
        "\n",
        "plt.show()"
      ]
    },
    {
      "cell_type": "code",
      "execution_count": 6,
      "metadata": {
        "id": "C4dO996gLOSF",
        "outputId": "0f345131-8de6-449a-8d81-acacf4247f71"
      },
      "outputs": [
        {
          "data": {
            "image/png": "[encoded data removed]",
            "text/plain": [
              "<Figure size 1200x700 with 1 Axes>"
            ]
          },
          "metadata": {},
          "output_type": "display_data"
        }
      ],
      "source": [
        "import matplotlib.pyplot as plt\n",
        "%matplotlib inline\n",
        "\n",
        "ktrlbtn = ['REGULER', 'KEMITRAAN']\n",
        "jum_ktrlbtn = df[df['skema'] == 'REGULER']['skema'].count(),df[df['skema'] == 'KEMITRAAN']['skema'].count()\n",
        "\n",
        "plt.figure(figsize=(12,7))\n",
        "plt.bar(ktrlbtn, jum_ktrlbtn, color='blue')\n",
        "\n",
        "plt.title('Jumlah Skema', size=16)\n",
        "plt.ylabel('Jumlah REGULER dan KEMITRAAN', size=14)\n",
        "plt.xticks(size=12)\n",
        "plt.yticks(size=12)\n",
        "\n",
        "plt.show()"
      ]
    },
    {
      "cell_type": "code",
      "execution_count": 7,
      "metadata": {
        "id": "t54g7P2-LOSG",
        "outputId": "9faae597-3dc0-484f-8891-0e9524478fde"
      },
      "outputs": [
        {
          "data": {
            "image/png": "[encoded data removed]",
            "text/plain": [
              "<Figure size 1200x700 with 1 Axes>"
            ]
          },
          "metadata": {},
          "output_type": "display_data"
        }
      ],
      "source": [
        "import matplotlib.pyplot as plt\n",
        "%matplotlib inline\n",
        "\n",
        "skema = ['TIDAK ADA', 'Hak Cipta']\n",
        "jum_skema = df[df['jenis_luaran_hki'] == 'TIDAK ADA']['jenis_luaran_hki'].count(),df[df['jenis_luaran_hki'] == 'Hak Cipta']['jenis_luaran_hki'].count()\n",
        "\n",
        "plt.figure(figsize=(12,7))\n",
        "plt.bar(skema, jum_skema, color='blue')\n",
        "\n",
        "plt.title('Jumlah Keluaran HKI', size=16)\n",
        "plt.ylabel('Jumlah TIDAK ADA dan Hak Cipta', size=14)\n",
        "plt.xticks(size=12)\n",
        "plt.yticks(size=12)\n",
        "\n",
        "plt.show()"
      ]
    },
    {
      "cell_type": "code",
      "execution_count": 8,
      "metadata": {
        "id": "RFCWEvR_LOSH",
        "outputId": "829fd096-7e1f-4d2b-c947-31ad2000a5e2"
      },
      "outputs": [
        {
          "data": {
            "image/png": "[encoded data removed]",
            "text/plain": [
              "<Figure size 1200x700 with 1 Axes>"
            ]
          },
          "metadata": {},
          "output_type": "display_data"
        }
      ],
      "source": [
        "import matplotlib.pyplot as plt\n",
        "%matplotlib inline\n",
        "\n",
        "jenis_luaran_lain= ['TIDAK ADA', 'Publikasi Media Massa', 'Artikel Ilmiah', 'Modul Ajar']\n",
        "jum_jenis_luaran_lain = df[df['jenis_luaran_lain'] == 'TIDAK ADA']['jenis_luaran_lain'].count(),df[df['jenis_luaran_lain'] == 'Publikasi Media Massa']['jenis_luaran_lain'].count(),df[df['jenis_luaran_lain'] == 'Artikel Ilmiah']['jenis_luaran_lain'].count(),df[df['jenis_luaran_lain'] == 'Modul Ajar']['jenis_luaran_lain'].count()\n",
        "\n",
        "plt.figure(figsize=(12,7))\n",
        "plt.bar(jenis_luaran_lain, jum_jenis_luaran_lain, color='blue')\n",
        "\n",
        "plt.title('Jumlah Keluaran Lain', size=16)\n",
        "plt.ylabel('Jumlah', size=14)\n",
        "plt.xticks(size=12)\n",
        "plt.yticks(size=12)\n",
        "\n",
        "plt.show()"
      ]
    },
    {
      "cell_type": "code",
      "execution_count": 9,
      "metadata": {
        "id": "jwJhyi5xLOSI",
        "outputId": "3ffe0e08-82f9-4750-e0c8-b6f7b348ca90"
      },
      "outputs": [
        {
          "data": {
            "text/html": [
              "<div>\n",
              "<style scoped>\n",
              "    .dataframe tbody tr th:only-of-type {\n",
              "        vertical-align: middle;\n",
              "    }\n",
              "\n",
              "    .dataframe tbody tr th {\n",
              "        vertical-align: top;\n",
              "    }\n",
              "\n",
              "    .dataframe thead th {\n",
              "        text-align: right;\n",
              "    }\n",
              "</style>\n",
              "<table border=\"1\" class=\"dataframe\">\n",
              "  <thead>\n",
              "    <tr style=\"text-align: right;\">\n",
              "      <th></th>\n",
              "      <th>id_ketua</th>\n",
              "      <th>id_anggota1</th>\n",
              "      <th>id_anggota2</th>\n",
              "      <th>id_anggota3</th>\n",
              "      <th>id_anggota4</th>\n",
              "      <th>keterlibatan_vltr</th>\n",
              "      <th>jml_vltr_terlibat</th>\n",
              "      <th>tahun</th>\n",
              "      <th>skema</th>\n",
              "      <th>luaran_hki</th>\n",
              "      <th>jenis_luaran_hki</th>\n",
              "      <th>potensi_hki</th>\n",
              "      <th>luaran_lain</th>\n",
              "      <th>jenis_luaran_lain</th>\n",
              "      <th>status_luaran_lain</th>\n",
              "    </tr>\n",
              "  </thead>\n",
              "  <tbody>\n",
              "    <tr>\n",
              "      <th>0</th>\n",
              "      <td>3</td>\n",
              "      <td>6</td>\n",
              "      <td>3</td>\n",
              "      <td>14</td>\n",
              "      <td>4</td>\n",
              "      <td>0</td>\n",
              "      <td>0</td>\n",
              "      <td>0</td>\n",
              "      <td>1</td>\n",
              "      <td>1</td>\n",
              "      <td>1</td>\n",
              "      <td>1</td>\n",
              "      <td>0</td>\n",
              "      <td>3</td>\n",
              "      <td>1</td>\n",
              "    </tr>\n",
              "    <tr>\n",
              "      <th>1</th>\n",
              "      <td>4</td>\n",
              "      <td>4</td>\n",
              "      <td>11</td>\n",
              "      <td>6</td>\n",
              "      <td>29</td>\n",
              "      <td>0</td>\n",
              "      <td>0</td>\n",
              "      <td>0</td>\n",
              "      <td>1</td>\n",
              "      <td>1</td>\n",
              "      <td>1</td>\n",
              "      <td>1</td>\n",
              "      <td>0</td>\n",
              "      <td>3</td>\n",
              "      <td>1</td>\n",
              "    </tr>\n",
              "    <tr>\n",
              "      <th>2</th>\n",
              "      <td>1</td>\n",
              "      <td>14</td>\n",
              "      <td>15</td>\n",
              "      <td>33</td>\n",
              "      <td>23</td>\n",
              "      <td>0</td>\n",
              "      <td>0</td>\n",
              "      <td>0</td>\n",
              "      <td>1</td>\n",
              "      <td>1</td>\n",
              "      <td>1</td>\n",
              "      <td>1</td>\n",
              "      <td>0</td>\n",
              "      <td>3</td>\n",
              "      <td>1</td>\n",
              "    </tr>\n",
              "    <tr>\n",
              "      <th>3</th>\n",
              "      <td>19</td>\n",
              "      <td>10</td>\n",
              "      <td>13</td>\n",
              "      <td>26</td>\n",
              "      <td>18</td>\n",
              "      <td>0</td>\n",
              "      <td>0</td>\n",
              "      <td>0</td>\n",
              "      <td>1</td>\n",
              "      <td>1</td>\n",
              "      <td>1</td>\n",
              "      <td>1</td>\n",
              "      <td>0</td>\n",
              "      <td>3</td>\n",
              "      <td>1</td>\n",
              "    </tr>\n",
              "    <tr>\n",
              "      <th>4</th>\n",
              "      <td>16</td>\n",
              "      <td>16</td>\n",
              "      <td>2</td>\n",
              "      <td>1</td>\n",
              "      <td>12</td>\n",
              "      <td>0</td>\n",
              "      <td>0</td>\n",
              "      <td>0</td>\n",
              "      <td>1</td>\n",
              "      <td>1</td>\n",
              "      <td>1</td>\n",
              "      <td>1</td>\n",
              "      <td>0</td>\n",
              "      <td>3</td>\n",
              "      <td>1</td>\n",
              "    </tr>\n",
              "  </tbody>\n",
              "</table>\n",
              "</div>"
            ],
            "text/plain": [
              "   id_ketua  id_anggota1  id_anggota2  id_anggota3  id_anggota4  \\\n",
              "0         3            6            3           14            4   \n",
              "1         4            4           11            6           29   \n",
              "2         1           14           15           33           23   \n",
              "3        19           10           13           26           18   \n",
              "4        16           16            2            1           12   \n",
              "\n",
              "   keterlibatan_vltr  jml_vltr_terlibat  tahun  skema  luaran_hki  \\\n",
              "0                  0                  0      0      1           1   \n",
              "1                  0                  0      0      1           1   \n",
              "2                  0                  0      0      1           1   \n",
              "3                  0                  0      0      1           1   \n",
              "4                  0                  0      0      1           1   \n",
              "\n",
              "   jenis_luaran_hki  potensi_hki  luaran_lain  jenis_luaran_lain  \\\n",
              "0                 1            1            0                  3   \n",
              "1                 1            1            0                  3   \n",
              "2                 1            1            0                  3   \n",
              "3                 1            1            0                  3   \n",
              "4                 1            1            0                  3   \n",
              "\n",
              "   status_luaran_lain  \n",
              "0                   1  \n",
              "1                   1  \n",
              "2                   1  \n",
              "3                   1  \n",
              "4                   1  "
            ]
          },
          "execution_count": 9,
          "metadata": {},
          "output_type": "execute_result"
        }
      ],
      "source": [
        "from sklearn.preprocessing import LabelEncoder\n",
        "\n",
        "labelencoder=LabelEncoder()\n",
        "\n",
        "for column in df.columns:\n",
        "    df[column] = labelencoder.fit_transform(df[column])\n",
        "\n",
        "df.head()"
      ]
    },
    {
      "cell_type": "markdown",
      "metadata": {
        "id": "xUysDAOCLOSI"
      },
      "source": [
        "### 2. Lakukan pemilahan data training dan testing yang sesuai dan proporsional dari data tersebut\n",
        "### 3. Tentukan data validasi"
      ]
    },
    {
      "cell_type": "code",
      "execution_count": 10,
      "metadata": {
        "id": "xeVM9-AILOSJ",
        "outputId": "b177af61-ec6c-4faa-89ef-06bd82df7be4"
      },
      "outputs": [
        {
          "name": "stdout",
          "output_type": "stream",
          "text": [
            "Jumlah data asli: 66\n",
            "Jumlah data training: 52\n",
            "Jumlah data validasi: 7\n",
            "Jumlah data testing: 7\n"
          ]
        }
      ],
      "source": [
        "# Split data\n",
        "from sklearn.model_selection import train_test_split\n",
        "\n",
        "# Split data training dan dan lainnya\n",
        "# data lainnya, akan kita split lagi menjadi validasi dan testing.\n",
        "# Rasio yang akan kita gunakan adalah 8:1:1\n",
        "df_train, df_unseen = train_test_split(df, test_size=0.2, random_state=0)\n",
        "\n",
        "# Split lagi antara validasi dan testing\n",
        "df_val, df_test = train_test_split(df_unseen, test_size=0.5, random_state=0)\n",
        "\n",
        "# Cek masing-masing ukuran data\n",
        "\n",
        "print(f'Jumlah data asli: {df.shape[0]}')\n",
        "print(f'Jumlah data training: {df_train.shape[0]}')\n",
        "print(f'Jumlah data validasi: {df_val.shape[0]}')\n",
        "print(f'Jumlah data testing: {df_test.shape[0]}')"
      ]
    },
    {
      "cell_type": "markdown",
      "metadata": {
        "id": "n-cDnAY3LOSK"
      },
      "source": [
        "### 4. Terapkan dua jenis metode klasifikasi dan lakukan perbandingan akurasi dengan wajib melibatkan variabel keterlibatan volunteer sampai variabel luaran-luaran yang dihasilkan"
      ]
    },
    {
      "cell_type": "code",
      "execution_count": 11,
      "metadata": {
        "id": "mVRwJNkOLOSK",
        "outputId": "bef1318f-5b0c-4c80-94bf-7d0acff13c28"
      },
      "outputs": [
        {
          "data": {
            "text/plain": [
              "(66, 13)"
            ]
          },
          "execution_count": 11,
          "metadata": {},
          "output_type": "execute_result"
        }
      ],
      "source": [
        "# Seleksi fitur\n",
        "\n",
        "X = df.iloc[:,2:]\n",
        "y = df['luaran_hki']\n",
        "\n",
        "# Cek jumlah fitur dan instance\n",
        "X.shape"
      ]
    },
    {
      "cell_type": "code",
      "execution_count": 12,
      "metadata": {
        "id": "JeQeHqbyLOSL"
      },
      "outputs": [],
      "source": [
        "from sklearn.model_selection import train_test_split\n",
        "\n",
        "X_train, X_test, y_train, y_test = train_test_split(X, y, test_size=0.2, random_state=1)"
      ]
    },
    {
      "cell_type": "markdown",
      "metadata": {
        "id": "kURvjh02LOSL"
      },
      "source": [
        "Traning Decision Tree"
      ]
    },
    {
      "cell_type": "code",
      "execution_count": 13,
      "metadata": {
        "id": "u-1NHQkHLOSL",
        "outputId": "739a1fd5-12b1-4296-ad64-09ed3aa91b96"
      },
      "outputs": [
        {
          "name": "stdout",
          "output_type": "stream",
          "text": [
            "Test set accuracy: 1.00\n",
            "Test set accuracy: 1.0\n"
          ]
        }
      ],
      "source": [
        "# Secara default, DecisionTreeClassifier dari scikit-learn akan menggunakan nilai \"Gini\" untuk kriteria\n",
        "# Terdapat beberapa \"hyperparamater\" yang dapat digunakan. Silahka baca dokumentasi\n",
        "# Pada kasus ini kita akan menggunakan parameter default\n",
        "from sklearn.tree import DecisionTreeClassifier\n",
        "from sklearn.metrics import accuracy_score\n",
        "\n",
        "dt = DecisionTreeClassifier()\n",
        "\n",
        "# Sesuaikan dt ke set training\n",
        "dt.fit(X_train, y_train)\n",
        "\n",
        "# Memprediksi label set test\n",
        "y_pred_dt = dt.predict(X_test)\n",
        "\n",
        "#  menghitung set accuracy\n",
        "acc_dt = accuracy_score(y_test, y_pred_dt)\n",
        "print(\"Test set accuracy: {:.2f}\".format(acc_dt))\n",
        "print(f\"Test set accuracy: {acc_dt}\")"
      ]
    },
    {
      "cell_type": "code",
      "execution_count": 14,
      "metadata": {
        "id": "aUGBa5W2LOSM",
        "outputId": "00d55697-b106-41de-f309-a2d33724660f"
      },
      "outputs": [
        {
          "data": {
            "text/plain": [
              "array([[ 1,  0],\n",
              "       [ 0, 13]], dtype=int64)"
            ]
          },
          "execution_count": 14,
          "metadata": {},
          "output_type": "execute_result"
        }
      ],
      "source": [
        "from sklearn.metrics import confusion_matrix\n",
        "\n",
        "confusion_matrix(y_test, y_pred_dt)"
      ]
    },
    {
      "cell_type": "code",
      "execution_count": 15,
      "metadata": {
        "id": "UM_Tkau8LOSN",
        "outputId": "774dfea6-4865-4f01-a763-5df995f2bc9d"
      },
      "outputs": [
        {
          "name": "stdout",
          "output_type": "stream",
          "text": [
            "Decision Tree\n",
            "              precision    recall  f1-score   support\n",
            "\n",
            "           0       1.00      1.00      1.00         1\n",
            "           1       1.00      1.00      1.00        13\n",
            "\n",
            "    accuracy                           1.00        14\n",
            "   macro avg       1.00      1.00      1.00        14\n",
            "weighted avg       1.00      1.00      1.00        14\n",
            "\n"
          ]
        }
      ],
      "source": [
        "from sklearn.metrics import classification_report\n",
        "\n",
        "print('Decision Tree')\n",
        "print(classification_report(y_test, y_pred_dt))"
      ]
    },
    {
      "cell_type": "code",
      "execution_count": 16,
      "metadata": {
        "id": "pTrSvBtfLOSN"
      },
      "outputs": [],
      "source": [
        "#Menghitung prediction probability dari model yang telah dibuat\n",
        "dt_probs = dt.predict_proba(X_test)\n",
        " \n",
        "#Prediction probability berisi '0'\n",
        "random_probs = [0 for _ in range(len(y_test))]"
      ]
    },
    {
      "cell_type": "code",
      "execution_count": 17,
      "metadata": {
        "id": "lACh9GD0LOSO"
      },
      "outputs": [],
      "source": [
        "dt_probs = dt_probs[:,1]"
      ]
    },
    {
      "cell_type": "code",
      "execution_count": 18,
      "metadata": {
        "id": "Ipi5fNOSLOSO",
        "outputId": "c219c29a-646c-494c-b322-3e567e230a8d"
      },
      "outputs": [
        {
          "name": "stdout",
          "output_type": "stream",
          "text": [
            "Random Prediction : AUCROC = 0.500\n",
            "SVM : AUCROC = 1.000\n"
          ]
        }
      ],
      "source": [
        "from sklearn.metrics import roc_curve, roc_auc_score\n",
        "\n",
        "#menghitung AUC untuk random model\n",
        "random_auc = roc_auc_score(y_test, random_probs)\n",
        " \n",
        "#menghitung AUC SVM classifier\n",
        "svm_auc = roc_auc_score(y_test, dt_probs)\n",
        " \n",
        "#menampilkan hasil\n",
        "print('Random Prediction : AUCROC = %.3f' % (random_auc))\n",
        "print('SVM : AUCROC = %.3f' % (svm_auc))"
      ]
    },
    {
      "cell_type": "code",
      "execution_count": 19,
      "metadata": {
        "id": "kW311r4PLOSP",
        "outputId": "bff6482b-de22-4657-b2b2-1833b5ab77cc"
      },
      "outputs": [
        {
          "data": {
            "image/png": "[encoded data removed]",
            "text/plain": [
              "<Figure size 640x480 with 1 Axes>"
            ]
          },
          "metadata": {},
          "output_type": "display_data"
        }
      ],
      "source": [
        "#menyimpan nilai yang dibutuhkan untuk membuat ROC curve (false positive rate, true positive rate)\n",
        "random_fpr, random_tpr, _ = roc_curve(y_test, random_probs)\n",
        "svm_fpr, svm_tpr, _ = roc_curve(y_test, dt_probs)\n",
        " \n",
        "#plot ROC curve dengan matplotlib.pyplot\n",
        "plt.plot(random_fpr, random_tpr, marker='.', label='Random : (AUCROC = %.3f)' % random_auc)\n",
        "plt.plot(svm_fpr, svm_tpr, marker='.', label='SVM : (AUCROC = %.3f)' % svm_auc)\n",
        " \n",
        "plt.title('ROC Plot')\n",
        "plt.xlabel('False Positive Rate')\n",
        "plt.ylabel('True Positive Rate')\n",
        "plt.legend()\n",
        "plt.show()"
      ]
    },
    {
      "cell_type": "markdown",
      "metadata": {
        "id": "8c-6iPAlLOSP"
      },
      "source": [
        "Training RandomForest"
      ]
    },
    {
      "cell_type": "code",
      "execution_count": 20,
      "metadata": {
        "id": "8HjcH6iWLOSP",
        "outputId": "6f9ca545-2220-484f-8255-e692bc725b60"
      },
      "outputs": [
        {
          "name": "stdout",
          "output_type": "stream",
          "text": [
            "Test set accuracy: 1.00\n",
            "Test set accuracy: 1.0\n"
          ]
        }
      ],
      "source": [
        "# Pada kasus kali ini kita akan menggunakan seluruh parameter default dari RandomForest\n",
        "# Untuk detail parameter (hyperparameter) silahkan cek dokumentasi\n",
        "from sklearn.ensemble import RandomForestClassifier\n",
        "\n",
        "rf = RandomForestClassifier(n_estimators=10, random_state=1)\n",
        "\n",
        "# Sesuaikan dt ke set training\n",
        "rf.fit(X_train, y_train)\n",
        "\n",
        "# Memprediksi label set test\n",
        "y_pred_rf = rf.predict(X_test)\n",
        "\n",
        "#  menghitung set accuracy\n",
        "acc_rf = accuracy_score(y_test, y_pred_rf)\n",
        "print(\"Test set accuracy: {:.2f}\".format(acc_rf))\n",
        "print(f\"Test set accuracy: {acc_rf}\")"
      ]
    },
    {
      "cell_type": "code",
      "execution_count": 21,
      "metadata": {
        "id": "BLo2rJDBLOSP",
        "outputId": "039ab0c6-633e-4869-b8d5-d6bc9a0d5d61"
      },
      "outputs": [
        {
          "data": {
            "text/plain": [
              "array([[ 1,  0],\n",
              "       [ 0, 13]], dtype=int64)"
            ]
          },
          "execution_count": 21,
          "metadata": {},
          "output_type": "execute_result"
        }
      ],
      "source": [
        "from sklearn.metrics import confusion_matrix\n",
        "\n",
        "confusion_matrix(y_test, y_pred_rf)"
      ]
    },
    {
      "cell_type": "code",
      "execution_count": 22,
      "metadata": {
        "id": "eLWZnMuyLOSQ",
        "outputId": "1daf9d76-b3f0-48ff-d010-103404dd35f6"
      },
      "outputs": [
        {
          "name": "stdout",
          "output_type": "stream",
          "text": [
            "Random Forest\n",
            "              precision    recall  f1-score   support\n",
            "\n",
            "           0       1.00      1.00      1.00         1\n",
            "           1       1.00      1.00      1.00        13\n",
            "\n",
            "    accuracy                           1.00        14\n",
            "   macro avg       1.00      1.00      1.00        14\n",
            "weighted avg       1.00      1.00      1.00        14\n",
            "\n"
          ]
        }
      ],
      "source": [
        "from sklearn.metrics import classification_report\n",
        "\n",
        "print('Random Forest')\n",
        "print(classification_report(y_test, y_pred_rf))"
      ]
    },
    {
      "cell_type": "markdown",
      "metadata": {
        "id": "DBiOFqHkLOSQ"
      },
      "source": [
        "### 5. Terapkan sebuah metode prediksi (berdasarkan tahun, misal: jumlah kegiatan pada tahun tertentu sebagai x dan jumlah luaran sebagai y) serta hitung akurasinya dengan wajib melibatkan variabel keterlibatan volunteer sampai variabel luaran-luaran yang dihasilkan"
      ]
    },
    {
      "cell_type": "code",
      "execution_count": 23,
      "metadata": {
        "id": "pwRsfjt9LOSR"
      },
      "outputs": [],
      "source": [
        "#Menghitung prediction probability dari model yang telah dibuat\n",
        "rf_probs = rf.predict_proba(X_test)\n",
        " \n",
        "#Prediction probability berisi '0'\n",
        "random_probs = [0 for _ in range(len(y_test))]"
      ]
    },
    {
      "cell_type": "code",
      "execution_count": 24,
      "metadata": {
        "id": "1QUjh108LOSR"
      },
      "outputs": [],
      "source": [
        "rf_probs = rf_probs[:,1]"
      ]
    },
    {
      "cell_type": "code",
      "execution_count": 25,
      "metadata": {
        "id": "AW6WBDfDLOSR",
        "outputId": "c763752d-aea9-461d-8496-69649924242b"
      },
      "outputs": [
        {
          "name": "stdout",
          "output_type": "stream",
          "text": [
            "Random Prediction : AUCROC = 0.500\n",
            "SVM : AUCROC = 1.000\n"
          ]
        }
      ],
      "source": [
        "from sklearn.metrics import roc_curve, roc_auc_score\n",
        "\n",
        "#menghitung AUC untuk random model\n",
        "random_auc = roc_auc_score(y_test, random_probs)\n",
        " \n",
        "#menghitung AUC SVM classifier\n",
        "svm_auc = roc_auc_score(y_test, dt_probs)\n",
        " \n",
        "#menampilkan hasil\n",
        "print('Random Prediction : AUCROC = %.3f' % (random_auc))\n",
        "print('SVM : AUCROC = %.3f' % (svm_auc))"
      ]
    },
    {
      "cell_type": "code",
      "execution_count": 26,
      "metadata": {
        "id": "dB1SYasFLOSS",
        "outputId": "3f3c5096-37fd-4b46-e3f8-70f640da9572"
      },
      "outputs": [
        {
          "data": {
            "image/png": "[encoded data removed]",
            "text/plain": [
              "<Figure size 640x480 with 1 Axes>"
            ]
          },
          "metadata": {},
          "output_type": "display_data"
        }
      ],
      "source": [
        "#menyimpan nilai yang dibutuhkan untuk membuat ROC curve (false positive rate, true positive rate)\n",
        "random_fpr, random_tpr, _ = roc_curve(y_test, random_probs)\n",
        "svm_fpr, svm_tpr, _ = roc_curve(y_test, rf_probs)\n",
        " \n",
        "#plot ROC curve dengan matplotlib.pyplot\n",
        "plt.plot(random_fpr, random_tpr, marker='.', label='Random : (AUCROC = %.3f)' % random_auc)\n",
        "plt.plot(svm_fpr, svm_tpr, marker='.', label='SVM : (AUCROC = %.3f)' % svm_auc)\n",
        " \n",
        "plt.title('ROC Plot')\n",
        "plt.xlabel('False Positive Rate')\n",
        "plt.ylabel('True Positive Rate')\n",
        "plt.legend()\n",
        "plt.show()"
      ]
    },
    {
      "cell_type": "markdown",
      "metadata": {
        "id": "lXBMeS3MLOST"
      },
      "source": [
        "Regresi Linier"
      ]
    },
    {
      "cell_type": "code",
      "execution_count": 27,
      "metadata": {
        "id": "DYaq_SmmLOST"
      },
      "outputs": [],
      "source": [
        "# Buat variabel bebas X dan Y, sebagai contoh ambil dari hasil analisis korelasi dari kegaitan sebelumnya\n",
        "X = df['jml_vltr_terlibat']\n",
        "y = df['keterlibatan_vltr']"
      ]
    },
    {
      "cell_type": "code",
      "execution_count": 28,
      "metadata": {
        "id": "1w_BBDsJLOST"
      },
      "outputs": [],
      "source": [
        "# Buat pemisahan data uji dan data latih dengan proporsi 7:3\n",
        "from sklearn.model_selection import train_test_split\n",
        "X_train, X_test, y_train, y_test = train_test_split(X, y, train_size = 0.7, \n",
        "                                                    test_size = 0.3, random_state = 100)"
      ]
    },
    {
      "cell_type": "code",
      "execution_count": 29,
      "metadata": {
        "id": "IJMDIZDbLOSU",
        "outputId": "b3351340-b052-4d3b-acd5-1b171a5d6665"
      },
      "outputs": [
        {
          "data": {
            "text/plain": [
              "80    1\n",
              "51    0\n",
              "34    1\n",
              "76    1\n",
              "59    0\n",
              "42    0\n",
              "53    1\n",
              "21    1\n",
              "7     0\n",
              "81    1\n",
              "52    0\n",
              "45    1\n",
              "44    1\n",
              "24    0\n",
              "16    0\n",
              "1     0\n",
              "38    1\n",
              "4     0\n",
              "33    1\n",
              "64    1\n",
              "27    1\n",
              "35    0\n",
              "10    0\n",
              "20    0\n",
              "50    0\n",
              "43    0\n",
              "75    0\n",
              "83    1\n",
              "74    1\n",
              "57    0\n",
              "66    0\n",
              "17    0\n",
              "65    0\n",
              "2     0\n",
              "61    1\n",
              "41    1\n",
              "60    1\n",
              "37    0\n",
              "11    0\n",
              "56    0\n",
              "19    1\n",
              "29    1\n",
              "46    1\n",
              "3     0\n",
              "30    1\n",
              "9     0\n",
              "Name: keterlibatan_vltr, dtype: int32"
            ]
          },
          "execution_count": 29,
          "metadata": {},
          "output_type": "execute_result"
        }
      ],
      "source": [
        "# hasil training dtaset\n",
        "X_train\n",
        "y_train"
      ]
    },
    {
      "cell_type": "code",
      "execution_count": 30,
      "metadata": {
        "id": "FhI3FcDsLOSU"
      },
      "outputs": [],
      "source": [
        "# training model\n",
        "import statsmodels.api as sm\n",
        "\n",
        "X_train_sm = sm.add_constant(X_train)"
      ]
    },
    {
      "cell_type": "code",
      "execution_count": 31,
      "metadata": {
        "id": "LJHZ3-5-LOSU",
        "outputId": "6b538925-7573-461c-e95b-7d7487ba9b1f"
      },
      "outputs": [
        {
          "data": {
            "text/plain": [
              "const                0.033951\n",
              "jml_vltr_terlibat    0.329462\n",
              "dtype: float64"
            ]
          },
          "execution_count": 31,
          "metadata": {},
          "output_type": "execute_result"
        }
      ],
      "source": [
        "# fitting garis regresi\n",
        "lr = sm.OLS(y_train, X_train_sm).fit()\n",
        "lr.params"
      ]
    },
    {
      "cell_type": "code",
      "execution_count": 32,
      "metadata": {
        "id": "Om4LchjXLOSU",
        "outputId": "88eb4fb8-529f-420d-ac40-12807887f3e8"
      },
      "outputs": [
        {
          "data": {
            "text/html": [
              "<table class=\"simpletable\">\n",
              "<caption>OLS Regression Results</caption>\n",
              "<tr>\n",
              "  <th>Dep. Variable:</th>    <td>keterlibatan_vltr</td> <th>  R-squared:         </th> <td>   0.926</td>\n",
              "</tr>\n",
              "<tr>\n",
              "  <th>Model:</th>                   <td>OLS</td>        <th>  Adj. R-squared:    </th> <td>   0.924</td>\n",
              "</tr>\n",
              "<tr>\n",
              "  <th>Method:</th>             <td>Least Squares</td>   <th>  F-statistic:       </th> <td>   547.6</td>\n",
              "</tr>\n",
              "<tr>\n",
              "  <th>Date:</th>             <td>Sun, 27 Nov 2022</td>  <th>  Prob (F-statistic):</th> <td>1.84e-26</td>\n",
              "</tr>\n",
              "<tr>\n",
              "  <th>Time:</th>                 <td>15:40:19</td>      <th>  Log-Likelihood:    </th> <td>  26.558</td>\n",
              "</tr>\n",
              "<tr>\n",
              "  <th>No. Observations:</th>      <td>    46</td>       <th>  AIC:               </th> <td>  -49.12</td>\n",
              "</tr>\n",
              "<tr>\n",
              "  <th>Df Residuals:</th>          <td>    44</td>       <th>  BIC:               </th> <td>  -45.46</td>\n",
              "</tr>\n",
              "<tr>\n",
              "  <th>Df Model:</th>              <td>     1</td>       <th>                     </th>     <td> </td>   \n",
              "</tr>\n",
              "<tr>\n",
              "  <th>Covariance Type:</th>      <td>nonrobust</td>     <th>                     </th>     <td> </td>   \n",
              "</tr>\n",
              "</table>\n",
              "<table class=\"simpletable\">\n",
              "<tr>\n",
              "          <td></td>             <th>coef</th>     <th>std err</th>      <th>t</th>      <th>P>|t|</th>  <th>[0.025</th>    <th>0.975]</th>  \n",
              "</tr>\n",
              "<tr>\n",
              "  <th>const</th>             <td>    0.0340</td> <td>    0.027</td> <td>    1.244</td> <td> 0.220</td> <td>   -0.021</td> <td>    0.089</td>\n",
              "</tr>\n",
              "<tr>\n",
              "  <th>jml_vltr_terlibat</th> <td>    0.3295</td> <td>    0.014</td> <td>   23.402</td> <td> 0.000</td> <td>    0.301</td> <td>    0.358</td>\n",
              "</tr>\n",
              "</table>\n",
              "<table class=\"simpletable\">\n",
              "<tr>\n",
              "  <th>Omnibus:</th>       <td>48.698</td> <th>  Durbin-Watson:     </th> <td>   1.821</td>\n",
              "</tr>\n",
              "<tr>\n",
              "  <th>Prob(Omnibus):</th> <td> 0.000</td> <th>  Jarque-Bera (JB):  </th> <td> 250.223</td>\n",
              "</tr>\n",
              "<tr>\n",
              "  <th>Skew:</th>          <td> 2.604</td> <th>  Prob(JB):          </th> <td>4.62e-55</td>\n",
              "</tr>\n",
              "<tr>\n",
              "  <th>Kurtosis:</th>      <td>13.170</td> <th>  Cond. No.          </th> <td>    2.93</td>\n",
              "</tr>\n",
              "</table><br/><br/>Notes:<br/>[1] Standard Errors assume that the covariance matrix of the errors is correctly specified."
            ],
            "text/plain": [
              "<class 'statsmodels.iolib.summary.Summary'>\n",
              "\"\"\"\n",
              "                            OLS Regression Results                            \n",
              "==============================================================================\n",
              "Dep. Variable:      keterlibatan_vltr   R-squared:                       0.926\n",
              "Model:                            OLS   Adj. R-squared:                  0.924\n",
              "Method:                 Least Squares   F-statistic:                     547.6\n",
              "Date:                Sun, 27 Nov 2022   Prob (F-statistic):           1.84e-26\n",
              "Time:                        15:40:19   Log-Likelihood:                 26.558\n",
              "No. Observations:                  46   AIC:                            -49.12\n",
              "Df Residuals:                      44   BIC:                            -45.46\n",
              "Df Model:                           1                                         \n",
              "Covariance Type:            nonrobust                                         \n",
              "=====================================================================================\n",
              "                        coef    std err          t      P>|t|      [0.025      0.975]\n",
              "-------------------------------------------------------------------------------------\n",
              "const                 0.0340      0.027      1.244      0.220      -0.021       0.089\n",
              "jml_vltr_terlibat     0.3295      0.014     23.402      0.000       0.301       0.358\n",
              "==============================================================================\n",
              "Omnibus:                       48.698   Durbin-Watson:                   1.821\n",
              "Prob(Omnibus):                  0.000   Jarque-Bera (JB):              250.223\n",
              "Skew:                           2.604   Prob(JB):                     4.62e-55\n",
              "Kurtosis:                      13.170   Cond. No.                         2.93\n",
              "==============================================================================\n",
              "\n",
              "Notes:\n",
              "[1] Standard Errors assume that the covariance matrix of the errors is correctly specified.\n",
              "\"\"\""
            ]
          },
          "execution_count": 32,
          "metadata": {},
          "output_type": "execute_result"
        }
      ],
      "source": [
        "# analisis statistika dari garis regresi\n",
        "lr.summary()"
      ]
    },
    {
      "cell_type": "code",
      "execution_count": 33,
      "metadata": {
        "id": "IYIkRCXFLOSU",
        "outputId": "590e29f4-bab0-4b3b-d328-cbc6d54a0d27"
      },
      "outputs": [
        {
          "data": {
            "image/png": "[encoded data removed]",
            "text/plain": [
              "<Figure size 640x480 with 1 Axes>"
            ]
          },
          "metadata": {},
          "output_type": "display_data"
        }
      ],
      "source": [
        "# visualisasi garis regresi\n",
        "plt.scatter(X_train, y_train)\n",
        "plt.plot(X_train, 265.2483 + 66.3015*X_train, 'r')\n",
        "plt.show()"
      ]
    },
    {
      "cell_type": "markdown",
      "metadata": {
        "id": "B5o1ZzEhLOSV"
      },
      "source": [
        "### 6. Buat Confusion Matrix dan ROC berdasarkan klasifikasi yang diterapkan pada nomor 4"
      ]
    },
    {
      "cell_type": "markdown",
      "metadata": {
        "id": "sCTyBcC-LOSV"
      },
      "source": [
        "### 7. Lakukan hyperparameter tunning berdasarkan jawaban nomor 2, 3, dan 4 menggunakan metode Grid Search, Random Search, dan Exhausive Search"
      ]
    },
    {
      "cell_type": "markdown",
      "metadata": {
        "id": "c4Q1AeejLOSV"
      },
      "source": [
        "### 8. Tambahkan visualisasi berdasarkan nomor 4 dan 5 (masing-masing nomor minimal satu visualisasi)"
      ]
    }
  ],
  "metadata": {
    "colab": {
      "provenance": []
    },
    "kernelspec": {
      "display_name": "Python 3.10.0 64-bit",
      "language": "python",
      "name": "python3"
    },
    "language_info": {
      "codemirror_mode": {
        "name": "ipython",
        "version": 3
      },
      "file_extension": ".py",
      "mimetype": "text/x-python",
      "name": "python",
      "nbconvert_exporter": "python",
      "pygments_lexer": "ipython3",
      "version": "3.10.0"
    },
    "orig_nbformat": 4,
    "vscode": {
      "interpreter": {
        "hash": "fb4569285eef3a3450cb62085a5b1e0da4bce0af555edc33dcf29baf3acc1368"
      }
    }
  },
  "nbformat": 4,
  "nbformat_minor": 0
}
